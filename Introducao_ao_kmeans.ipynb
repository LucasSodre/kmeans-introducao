{
  "nbformat": 4,
  "nbformat_minor": 0,
  "metadata": {
    "colab": {
      "name": "Introducao_ao_kmeans.ipynb",
      "provenance": [],
      "collapsed_sections": []
    },
    "kernelspec": {
      "name": "python3",
      "display_name": "Python 3"
    }
  },
  "cells": [
    {
      "cell_type": "markdown",
      "metadata": {
        "id": "1PC2sxP1MzRa",
        "colab_type": "text"
      },
      "source": [
        "# Lucas Camargo Sodre\n",
        "## Exercicio k-means"
      ]
    },
    {
      "cell_type": "markdown",
      "metadata": {
        "id": "Va0OW7BQQn1-",
        "colab_type": "text"
      },
      "source": [
        "## Importando libs"
      ]
    },
    {
      "cell_type": "code",
      "metadata": {
        "id": "KZgmlvxiqyYM",
        "colab_type": "code",
        "colab": {}
      },
      "source": [
        "# -*- coding: UTF-8 -*-\n",
        "# Importações\n",
        "\n",
        "from sklearn.cluster import KMeans\n",
        "import numpy as np\n",
        "import pandas as pd\n",
        "import matplotlib.pyplot as plt\n"
      ],
      "execution_count": 0,
      "outputs": []
    },
    {
      "cell_type": "markdown",
      "metadata": {
        "id": "ptHFw4YKQRaP",
        "colab_type": "text"
      },
      "source": [
        "## Baixando e analisando os dados"
      ]
    },
    {
      "cell_type": "code",
      "metadata": {
        "id": "0NsMzWQWsZqP",
        "colab_type": "code",
        "colab": {}
      },
      "source": [
        "# Baixar o data set com pandas\n",
        "data_frame = pd.read_csv('teste/Iris.csv')"
      ],
      "execution_count": 0,
      "outputs": []
    },
    {
      "cell_type": "code",
      "metadata": {
        "id": "p4-Jao1_PkIz",
        "colab_type": "code",
        "outputId": "c1ddb767-cce5-4a69-8fa5-3c582b4eb37f",
        "colab": {
          "base_uri": "https://localhost:8080/",
          "height": 203
        }
      },
      "source": [
        "# Visualizar os dados do dataframe\n",
        "data_frame.head()"
      ],
      "execution_count": 0,
      "outputs": [
        {
          "output_type": "execute_result",
          "data": {
            "text/html": [
              "<div>\n",
              "<style scoped>\n",
              "    .dataframe tbody tr th:only-of-type {\n",
              "        vertical-align: middle;\n",
              "    }\n",
              "\n",
              "    .dataframe tbody tr th {\n",
              "        vertical-align: top;\n",
              "    }\n",
              "\n",
              "    .dataframe thead th {\n",
              "        text-align: right;\n",
              "    }\n",
              "</style>\n",
              "<table border=\"1\" class=\"dataframe\">\n",
              "  <thead>\n",
              "    <tr style=\"text-align: right;\">\n",
              "      <th></th>\n",
              "      <th>Id</th>\n",
              "      <th>SepalLengthCm</th>\n",
              "      <th>SepalWidthCm</th>\n",
              "      <th>PetalLengthCm</th>\n",
              "      <th>PetalWidthCm</th>\n",
              "      <th>Species</th>\n",
              "    </tr>\n",
              "  </thead>\n",
              "  <tbody>\n",
              "    <tr>\n",
              "      <th>0</th>\n",
              "      <td>1</td>\n",
              "      <td>5.1</td>\n",
              "      <td>3.5</td>\n",
              "      <td>1.4</td>\n",
              "      <td>0.2</td>\n",
              "      <td>Iris-setosa</td>\n",
              "    </tr>\n",
              "    <tr>\n",
              "      <th>1</th>\n",
              "      <td>2</td>\n",
              "      <td>4.9</td>\n",
              "      <td>3.0</td>\n",
              "      <td>1.4</td>\n",
              "      <td>0.2</td>\n",
              "      <td>Iris-setosa</td>\n",
              "    </tr>\n",
              "    <tr>\n",
              "      <th>2</th>\n",
              "      <td>3</td>\n",
              "      <td>4.7</td>\n",
              "      <td>3.2</td>\n",
              "      <td>1.3</td>\n",
              "      <td>0.2</td>\n",
              "      <td>Iris-setosa</td>\n",
              "    </tr>\n",
              "    <tr>\n",
              "      <th>3</th>\n",
              "      <td>4</td>\n",
              "      <td>4.6</td>\n",
              "      <td>3.1</td>\n",
              "      <td>1.5</td>\n",
              "      <td>0.2</td>\n",
              "      <td>Iris-setosa</td>\n",
              "    </tr>\n",
              "    <tr>\n",
              "      <th>4</th>\n",
              "      <td>5</td>\n",
              "      <td>5.0</td>\n",
              "      <td>3.6</td>\n",
              "      <td>1.4</td>\n",
              "      <td>0.2</td>\n",
              "      <td>Iris-setosa</td>\n",
              "    </tr>\n",
              "  </tbody>\n",
              "</table>\n",
              "</div>"
            ],
            "text/plain": [
              "   Id  SepalLengthCm  SepalWidthCm  PetalLengthCm  PetalWidthCm      Species\n",
              "0   1            5.1           3.5            1.4           0.2  Iris-setosa\n",
              "1   2            4.9           3.0            1.4           0.2  Iris-setosa\n",
              "2   3            4.7           3.2            1.3           0.2  Iris-setosa\n",
              "3   4            4.6           3.1            1.5           0.2  Iris-setosa\n",
              "4   5            5.0           3.6            1.4           0.2  Iris-setosa"
            ]
          },
          "metadata": {
            "tags": []
          },
          "execution_count": 3
        }
      ]
    },
    {
      "cell_type": "code",
      "metadata": {
        "id": "kbG4OfX8Re2v",
        "colab_type": "code",
        "outputId": "778907ee-8a03-4574-bedb-156c94a39280",
        "colab": {
          "base_uri": "https://localhost:8080/",
          "height": 140
        }
      },
      "source": [
        "# mostra os tipos das colunas\n",
        "data_frame.dtypes"
      ],
      "execution_count": 0,
      "outputs": [
        {
          "output_type": "execute_result",
          "data": {
            "text/plain": [
              "Id                 int64\n",
              "SepalLengthCm    float64\n",
              "SepalWidthCm     float64\n",
              "PetalLengthCm    float64\n",
              "PetalWidthCm     float64\n",
              "Species           object\n",
              "dtype: object"
            ]
          },
          "metadata": {
            "tags": []
          },
          "execution_count": 4
        }
      ]
    },
    {
      "cell_type": "code",
      "metadata": {
        "id": "pt15rgCjRkkP",
        "colab_type": "code",
        "outputId": "6f223fad-50a9-4cae-9f02-b6da6e551dc8",
        "colab": {
          "base_uri": "https://localhost:8080/",
          "height": 122
        }
      },
      "source": [
        "data_frame.mean()"
      ],
      "execution_count": 0,
      "outputs": [
        {
          "output_type": "execute_result",
          "data": {
            "text/plain": [
              "Id               75.500000\n",
              "SepalLengthCm     5.843333\n",
              "SepalWidthCm      3.054000\n",
              "PetalLengthCm     3.758667\n",
              "PetalWidthCm      1.198667\n",
              "dtype: float64"
            ]
          },
          "metadata": {
            "tags": []
          },
          "execution_count": 5
        }
      ]
    },
    {
      "cell_type": "code",
      "metadata": {
        "id": "EqoQIj5kQLVf",
        "colab_type": "code",
        "outputId": "13ba9bde-2c71-42ba-b708-027819a5aaf2",
        "colab": {
          "base_uri": "https://localhost:8080/",
          "height": 140
        }
      },
      "source": [
        "# Verificando o se existe algum dado faltando\n",
        "data_frame.isna().sum()"
      ],
      "execution_count": 0,
      "outputs": [
        {
          "output_type": "execute_result",
          "data": {
            "text/plain": [
              "Id               0\n",
              "SepalLengthCm    0\n",
              "SepalWidthCm     0\n",
              "PetalLengthCm    0\n",
              "PetalWidthCm     0\n",
              "Species          0\n",
              "dtype: int64"
            ]
          },
          "metadata": {
            "tags": []
          },
          "execution_count": 6
        }
      ]
    },
    {
      "cell_type": "markdown",
      "metadata": {
        "id": "cj4XcGlPQ3Ou",
        "colab_type": "text"
      },
      "source": [
        "## Dividindo os dados"
      ]
    },
    {
      "cell_type": "code",
      "metadata": {
        "id": "na_-nqx7Q5x5",
        "colab_type": "code",
        "colab": {}
      },
      "source": [
        "# Separar os dados de classificação\n",
        "\n",
        "# Variaveis do banco de dados\n",
        "# x = pd.DataFrame(data_frame.iloc[:, 1:5].values)\n",
        "x = data_frame.iloc[:, 0:4].values\n",
        "\n",
        "# Classificador\n",
        "y = pd.DataFrame(data_frame[\"Species\"])"
      ],
      "execution_count": 0,
      "outputs": []
    },
    {
      "cell_type": "code",
      "metadata": {
        "id": "ROu8BedbWv4P",
        "colab_type": "code",
        "outputId": "08e826fe-61f2-4b5c-8ca8-8fb01724cd0b",
        "colab": {
          "base_uri": "https://localhost:8080/",
          "height": 1000
        }
      },
      "source": [
        "x"
      ],
      "execution_count": 0,
      "outputs": [
        {
          "output_type": "execute_result",
          "data": {
            "text/plain": [
              "array([[  1. ,   5.1,   3.5,   1.4],\n",
              "       [  2. ,   4.9,   3. ,   1.4],\n",
              "       [  3. ,   4.7,   3.2,   1.3],\n",
              "       [  4. ,   4.6,   3.1,   1.5],\n",
              "       [  5. ,   5. ,   3.6,   1.4],\n",
              "       [  6. ,   5.4,   3.9,   1.7],\n",
              "       [  7. ,   4.6,   3.4,   1.4],\n",
              "       [  8. ,   5. ,   3.4,   1.5],\n",
              "       [  9. ,   4.4,   2.9,   1.4],\n",
              "       [ 10. ,   4.9,   3.1,   1.5],\n",
              "       [ 11. ,   5.4,   3.7,   1.5],\n",
              "       [ 12. ,   4.8,   3.4,   1.6],\n",
              "       [ 13. ,   4.8,   3. ,   1.4],\n",
              "       [ 14. ,   4.3,   3. ,   1.1],\n",
              "       [ 15. ,   5.8,   4. ,   1.2],\n",
              "       [ 16. ,   5.7,   4.4,   1.5],\n",
              "       [ 17. ,   5.4,   3.9,   1.3],\n",
              "       [ 18. ,   5.1,   3.5,   1.4],\n",
              "       [ 19. ,   5.7,   3.8,   1.7],\n",
              "       [ 20. ,   5.1,   3.8,   1.5],\n",
              "       [ 21. ,   5.4,   3.4,   1.7],\n",
              "       [ 22. ,   5.1,   3.7,   1.5],\n",
              "       [ 23. ,   4.6,   3.6,   1. ],\n",
              "       [ 24. ,   5.1,   3.3,   1.7],\n",
              "       [ 25. ,   4.8,   3.4,   1.9],\n",
              "       [ 26. ,   5. ,   3. ,   1.6],\n",
              "       [ 27. ,   5. ,   3.4,   1.6],\n",
              "       [ 28. ,   5.2,   3.5,   1.5],\n",
              "       [ 29. ,   5.2,   3.4,   1.4],\n",
              "       [ 30. ,   4.7,   3.2,   1.6],\n",
              "       [ 31. ,   4.8,   3.1,   1.6],\n",
              "       [ 32. ,   5.4,   3.4,   1.5],\n",
              "       [ 33. ,   5.2,   4.1,   1.5],\n",
              "       [ 34. ,   5.5,   4.2,   1.4],\n",
              "       [ 35. ,   4.9,   3.1,   1.5],\n",
              "       [ 36. ,   5. ,   3.2,   1.2],\n",
              "       [ 37. ,   5.5,   3.5,   1.3],\n",
              "       [ 38. ,   4.9,   3.1,   1.5],\n",
              "       [ 39. ,   4.4,   3. ,   1.3],\n",
              "       [ 40. ,   5.1,   3.4,   1.5],\n",
              "       [ 41. ,   5. ,   3.5,   1.3],\n",
              "       [ 42. ,   4.5,   2.3,   1.3],\n",
              "       [ 43. ,   4.4,   3.2,   1.3],\n",
              "       [ 44. ,   5. ,   3.5,   1.6],\n",
              "       [ 45. ,   5.1,   3.8,   1.9],\n",
              "       [ 46. ,   4.8,   3. ,   1.4],\n",
              "       [ 47. ,   5.1,   3.8,   1.6],\n",
              "       [ 48. ,   4.6,   3.2,   1.4],\n",
              "       [ 49. ,   5.3,   3.7,   1.5],\n",
              "       [ 50. ,   5. ,   3.3,   1.4],\n",
              "       [ 51. ,   7. ,   3.2,   4.7],\n",
              "       [ 52. ,   6.4,   3.2,   4.5],\n",
              "       [ 53. ,   6.9,   3.1,   4.9],\n",
              "       [ 54. ,   5.5,   2.3,   4. ],\n",
              "       [ 55. ,   6.5,   2.8,   4.6],\n",
              "       [ 56. ,   5.7,   2.8,   4.5],\n",
              "       [ 57. ,   6.3,   3.3,   4.7],\n",
              "       [ 58. ,   4.9,   2.4,   3.3],\n",
              "       [ 59. ,   6.6,   2.9,   4.6],\n",
              "       [ 60. ,   5.2,   2.7,   3.9],\n",
              "       [ 61. ,   5. ,   2. ,   3.5],\n",
              "       [ 62. ,   5.9,   3. ,   4.2],\n",
              "       [ 63. ,   6. ,   2.2,   4. ],\n",
              "       [ 64. ,   6.1,   2.9,   4.7],\n",
              "       [ 65. ,   5.6,   2.9,   3.6],\n",
              "       [ 66. ,   6.7,   3.1,   4.4],\n",
              "       [ 67. ,   5.6,   3. ,   4.5],\n",
              "       [ 68. ,   5.8,   2.7,   4.1],\n",
              "       [ 69. ,   6.2,   2.2,   4.5],\n",
              "       [ 70. ,   5.6,   2.5,   3.9],\n",
              "       [ 71. ,   5.9,   3.2,   4.8],\n",
              "       [ 72. ,   6.1,   2.8,   4. ],\n",
              "       [ 73. ,   6.3,   2.5,   4.9],\n",
              "       [ 74. ,   6.1,   2.8,   4.7],\n",
              "       [ 75. ,   6.4,   2.9,   4.3],\n",
              "       [ 76. ,   6.6,   3. ,   4.4],\n",
              "       [ 77. ,   6.8,   2.8,   4.8],\n",
              "       [ 78. ,   6.7,   3. ,   5. ],\n",
              "       [ 79. ,   6. ,   2.9,   4.5],\n",
              "       [ 80. ,   5.7,   2.6,   3.5],\n",
              "       [ 81. ,   5.5,   2.4,   3.8],\n",
              "       [ 82. ,   5.5,   2.4,   3.7],\n",
              "       [ 83. ,   5.8,   2.7,   3.9],\n",
              "       [ 84. ,   6. ,   2.7,   5.1],\n",
              "       [ 85. ,   5.4,   3. ,   4.5],\n",
              "       [ 86. ,   6. ,   3.4,   4.5],\n",
              "       [ 87. ,   6.7,   3.1,   4.7],\n",
              "       [ 88. ,   6.3,   2.3,   4.4],\n",
              "       [ 89. ,   5.6,   3. ,   4.1],\n",
              "       [ 90. ,   5.5,   2.5,   4. ],\n",
              "       [ 91. ,   5.5,   2.6,   4.4],\n",
              "       [ 92. ,   6.1,   3. ,   4.6],\n",
              "       [ 93. ,   5.8,   2.6,   4. ],\n",
              "       [ 94. ,   5. ,   2.3,   3.3],\n",
              "       [ 95. ,   5.6,   2.7,   4.2],\n",
              "       [ 96. ,   5.7,   3. ,   4.2],\n",
              "       [ 97. ,   5.7,   2.9,   4.2],\n",
              "       [ 98. ,   6.2,   2.9,   4.3],\n",
              "       [ 99. ,   5.1,   2.5,   3. ],\n",
              "       [100. ,   5.7,   2.8,   4.1],\n",
              "       [101. ,   6.3,   3.3,   6. ],\n",
              "       [102. ,   5.8,   2.7,   5.1],\n",
              "       [103. ,   7.1,   3. ,   5.9],\n",
              "       [104. ,   6.3,   2.9,   5.6],\n",
              "       [105. ,   6.5,   3. ,   5.8],\n",
              "       [106. ,   7.6,   3. ,   6.6],\n",
              "       [107. ,   4.9,   2.5,   4.5],\n",
              "       [108. ,   7.3,   2.9,   6.3],\n",
              "       [109. ,   6.7,   2.5,   5.8],\n",
              "       [110. ,   7.2,   3.6,   6.1],\n",
              "       [111. ,   6.5,   3.2,   5.1],\n",
              "       [112. ,   6.4,   2.7,   5.3],\n",
              "       [113. ,   6.8,   3. ,   5.5],\n",
              "       [114. ,   5.7,   2.5,   5. ],\n",
              "       [115. ,   5.8,   2.8,   5.1],\n",
              "       [116. ,   6.4,   3.2,   5.3],\n",
              "       [117. ,   6.5,   3. ,   5.5],\n",
              "       [118. ,   7.7,   3.8,   6.7],\n",
              "       [119. ,   7.7,   2.6,   6.9],\n",
              "       [120. ,   6. ,   2.2,   5. ],\n",
              "       [121. ,   6.9,   3.2,   5.7],\n",
              "       [122. ,   5.6,   2.8,   4.9],\n",
              "       [123. ,   7.7,   2.8,   6.7],\n",
              "       [124. ,   6.3,   2.7,   4.9],\n",
              "       [125. ,   6.7,   3.3,   5.7],\n",
              "       [126. ,   7.2,   3.2,   6. ],\n",
              "       [127. ,   6.2,   2.8,   4.8],\n",
              "       [128. ,   6.1,   3. ,   4.9],\n",
              "       [129. ,   6.4,   2.8,   5.6],\n",
              "       [130. ,   7.2,   3. ,   5.8],\n",
              "       [131. ,   7.4,   2.8,   6.1],\n",
              "       [132. ,   7.9,   3.8,   6.4],\n",
              "       [133. ,   6.4,   2.8,   5.6],\n",
              "       [134. ,   6.3,   2.8,   5.1],\n",
              "       [135. ,   6.1,   2.6,   5.6],\n",
              "       [136. ,   7.7,   3. ,   6.1],\n",
              "       [137. ,   6.3,   3.4,   5.6],\n",
              "       [138. ,   6.4,   3.1,   5.5],\n",
              "       [139. ,   6. ,   3. ,   4.8],\n",
              "       [140. ,   6.9,   3.1,   5.4],\n",
              "       [141. ,   6.7,   3.1,   5.6],\n",
              "       [142. ,   6.9,   3.1,   5.1],\n",
              "       [143. ,   5.8,   2.7,   5.1],\n",
              "       [144. ,   6.8,   3.2,   5.9],\n",
              "       [145. ,   6.7,   3.3,   5.7],\n",
              "       [146. ,   6.7,   3. ,   5.2],\n",
              "       [147. ,   6.3,   2.5,   5. ],\n",
              "       [148. ,   6.5,   3. ,   5.2],\n",
              "       [149. ,   6.2,   3.4,   5.4],\n",
              "       [150. ,   5.9,   3. ,   5.1]])"
            ]
          },
          "metadata": {
            "tags": []
          },
          "execution_count": 8
        }
      ]
    },
    {
      "cell_type": "code",
      "metadata": {
        "id": "PvFD_YjYSIuV",
        "colab_type": "code",
        "outputId": "404e5ba3-c4ff-43e5-fc67-0f15f99aa2fa",
        "colab": {
          "base_uri": "https://localhost:8080/",
          "height": 172
        }
      },
      "source": [
        "# visualizando a descrição dos atributos\n",
        "y.describe()"
      ],
      "execution_count": 0,
      "outputs": [
        {
          "output_type": "execute_result",
          "data": {
            "text/html": [
              "<div>\n",
              "<style scoped>\n",
              "    .dataframe tbody tr th:only-of-type {\n",
              "        vertical-align: middle;\n",
              "    }\n",
              "\n",
              "    .dataframe tbody tr th {\n",
              "        vertical-align: top;\n",
              "    }\n",
              "\n",
              "    .dataframe thead th {\n",
              "        text-align: right;\n",
              "    }\n",
              "</style>\n",
              "<table border=\"1\" class=\"dataframe\">\n",
              "  <thead>\n",
              "    <tr style=\"text-align: right;\">\n",
              "      <th></th>\n",
              "      <th>Species</th>\n",
              "    </tr>\n",
              "  </thead>\n",
              "  <tbody>\n",
              "    <tr>\n",
              "      <th>count</th>\n",
              "      <td>150</td>\n",
              "    </tr>\n",
              "    <tr>\n",
              "      <th>unique</th>\n",
              "      <td>3</td>\n",
              "    </tr>\n",
              "    <tr>\n",
              "      <th>top</th>\n",
              "      <td>Iris-virginica</td>\n",
              "    </tr>\n",
              "    <tr>\n",
              "      <th>freq</th>\n",
              "      <td>50</td>\n",
              "    </tr>\n",
              "  </tbody>\n",
              "</table>\n",
              "</div>"
            ],
            "text/plain": [
              "               Species\n",
              "count              150\n",
              "unique               3\n",
              "top     Iris-virginica\n",
              "freq                50"
            ]
          },
          "metadata": {
            "tags": []
          },
          "execution_count": 9
        }
      ]
    },
    {
      "cell_type": "markdown",
      "metadata": {
        "id": "NG1Oapd1Tfao",
        "colab_type": "text"
      },
      "source": [
        "## Criando o modelo k-means"
      ]
    },
    {
      "cell_type": "code",
      "metadata": {
        "id": "9wpy2N-gSLDY",
        "colab_type": "code",
        "colab": {}
      },
      "source": [
        "# Criando um modelo usando kmeans\n",
        "kmeans = KMeans(n_clusters=3,init = 'random')"
      ],
      "execution_count": 0,
      "outputs": []
    },
    {
      "cell_type": "code",
      "metadata": {
        "id": "16Rpi7F6SOvp",
        "colab_type": "code",
        "outputId": "733e54cc-581c-4bc7-ed9c-f31e424cb839",
        "colab": {
          "base_uri": "https://localhost:8080/",
          "height": 70
        }
      },
      "source": [
        "# Treinando o modelo\n",
        "kmeans.fit(x)"
      ],
      "execution_count": 0,
      "outputs": [
        {
          "output_type": "execute_result",
          "data": {
            "text/plain": [
              "KMeans(algorithm='auto', copy_x=True, init='random', max_iter=300, n_clusters=3,\n",
              "       n_init=10, n_jobs=None, precompute_distances='auto', random_state=None,\n",
              "       tol=0.0001, verbose=0)"
            ]
          },
          "metadata": {
            "tags": []
          },
          "execution_count": 11
        }
      ]
    },
    {
      "cell_type": "code",
      "metadata": {
        "id": "-IGZJ1yISTPN",
        "colab_type": "code",
        "outputId": "e0036b5f-492b-4251-8d60-9586bfc3967f",
        "colab": {
          "base_uri": "https://localhost:8080/",
          "height": 70
        }
      },
      "source": [
        "# Mostrando os clusteres\n",
        "kmeans.cluster_centers_"
      ],
      "execution_count": 0,
      "outputs": [
        {
          "output_type": "execute_result",
          "data": {
            "text/plain": [
              "array([[125.        ,   6.57058824,   2.97058824,   5.52352941],\n",
              "       [ 74.5       ,   5.922     ,   2.78      ,   4.206     ],\n",
              "       [ 25.        ,   5.00612245,   3.42040816,   1.46530612]])"
            ]
          },
          "metadata": {
            "tags": []
          },
          "execution_count": 12
        }
      ]
    },
    {
      "cell_type": "code",
      "metadata": {
        "id": "4Hr5ahtNUSfT",
        "colab_type": "code",
        "outputId": "88084982-6be6-4207-a805-98ee98765bf8",
        "colab": {
          "base_uri": "https://localhost:8080/",
          "height": 1000
        }
      },
      "source": [
        "# calculando a distancia\n",
        "distance = kmeans.fit_transform(x)\n",
        "print(distance)"
      ],
      "execution_count": 0,
      "outputs": [
        {
          "output_type": "stream",
          "text": [
            "[[124.57921144  74.56313698  24.50040114]\n",
            " [123.58130572  73.5632775   23.5040434 ]\n",
            " [122.58851954  72.57219988  22.50373427]\n",
            " [121.58386704  71.56648235  21.50621436]\n",
            " [120.58359227  70.56907677  20.50090866]\n",
            " [119.57155483  69.55837689  19.51136223]\n",
            " [118.59014598  68.57558892  18.50457392]\n",
            " [117.58134173  67.56582417  17.50004731]\n",
            " [116.59451927  66.57931958  16.51937214]\n",
            " [115.58345004  65.56713961  15.50366589]\n",
            " [114.58013407  64.56794713  14.50813758]\n",
            " [113.58365518  63.56896252  13.50226855]\n",
            " [112.59079325  62.57613759  12.50884711]\n",
            " [111.61230185  61.60328722  11.53497534]\n",
            " [110.59323453  60.58997439  10.54935335]\n",
            " [109.58782197  59.58674514   9.57586842]\n",
            " [108.59373059  58.5881882    8.5243449 ]\n",
            " [107.59172795  57.58178007   7.50131029]\n",
            " [106.57653928  56.56783712   6.55234737]\n",
            " [105.59150119  55.58441685   5.51416866]\n",
            " [104.57858635  54.5663614    4.52341199]\n",
            " [103.59251867  53.58573874   3.51278465]\n",
            " [102.62219411  52.62462728   2.58132834]\n",
            " [101.5844886   51.5730879    1.52592791]\n",
            " [100.58312743  50.5718004    0.69487841]\n",
            " [ 99.5911177   49.58078858   0.66577474]\n",
            " [ 98.5929588   48.58599177   1.50627222]\n",
            " [ 97.59545032  47.59140885   2.50911458]\n",
            " [ 96.60019215  46.59794197   3.50600285]\n",
            " [ 95.60064814  45.59647131   4.51770473]\n",
            " [ 94.59958311  44.59512301   5.51471269]\n",
            " [ 93.59626875  43.59531851   6.51205467]\n",
            " [ 92.6059562   42.61664224   7.53352879]\n",
            " [ 91.60882012  41.62528794   8.55041847]\n",
            " [ 90.60647838  40.60849414   9.50598001]\n",
            " [ 89.62010223  39.63173723  10.50558214]\n",
            " [ 88.61032628  38.62298015  11.51206567]\n",
            " [ 87.61012455  37.61714763  12.50454541]\n",
            " [ 86.63208138  36.65274609  13.52105233]\n",
            " [ 85.60995458  35.62251249  14.50036055]\n",
            " [ 84.62344784  34.6470864   15.50108564]\n",
            " [ 83.63697462  33.66444112  16.54638498]\n",
            " [ 82.63877978  32.67347236  17.5126142 ]\n",
            " [ 81.61290783  31.63438945  18.50068258]\n",
            " [ 80.60076627  30.61991829  19.50884046]\n",
            " [ 79.62842912  29.66096755  20.50539578]\n",
            " [ 78.61783973  28.6545877   21.50402883]\n",
            " [ 77.63692629  27.68391945  22.50480962]\n",
            " [ 76.62150301  26.667152    23.50355837]\n",
            " [ 75.63145592  25.68241803  24.50036849]\n",
            " [ 74.50635358  24.53080912  25.78265417]\n",
            " [ 73.50811604  23.50973832  26.71063563]\n",
            " [ 72.50371248  22.53215027  27.78028898]\n",
            " [ 71.52829317  21.51112726  28.63870207]\n",
            " [ 70.50669702  20.51059716  29.7102416 ]\n",
            " [ 69.51385131  19.50292788  30.66481463]\n",
            " [ 68.50667941  18.51639803  31.692429  ]\n",
            " [ 67.56108587  17.56080283  32.56790531]\n",
            " [ 66.50685622  16.5173665   33.68818274]\n",
            " [ 65.53610245  15.52179745  34.59389044]\n",
            " [ 64.55951614  14.57040137  35.58659939]\n",
            " [ 63.5181228   13.50214042  36.61570231]\n",
            " [ 62.52682244  12.51585379  37.61851746]\n",
            " [ 61.5078818   11.51031694  38.65471324]\n",
            " [ 60.53958972  10.52688919  39.56556149]\n",
            " [ 59.51138987   9.53741034  40.64284508]\n",
            " [ 58.51780519   8.5131308   41.61724229]\n",
            " [ 57.52438026   7.50326569  42.59512244]\n",
            " [ 56.51642526   6.53469173  43.63916195]\n",
            " [ 55.53539344   5.52859801  44.58003652]\n",
            " [ 54.50999839   4.55277893  45.63141085]\n",
            " [ 53.525014     3.51360157  46.58605001]\n",
            " [ 52.50697786   2.62011374  47.65053259]\n",
            " [ 51.50965273   1.57206743  48.6240728 ]\n",
            " [ 50.51592149   0.69555446  49.60347222]\n",
            " [ 49.51341156   0.87372536  50.61210978]\n",
            " [ 48.50660495   1.81355893  51.64280449]\n",
            " [ 47.50334645   2.72657221  52.64786469]\n",
            " [ 46.51567396   3.51121005  53.59779525]\n",
            " [ 45.55643889   4.57298546  54.54856603]\n",
            " [ 44.55146152   5.54874725  55.56066285]\n",
            " [ 43.55678046   6.54909123  56.55554841]\n",
            " [ 42.54027649   7.51019281  57.56153278]\n",
            " [ 41.50753093   8.54193163  58.62571156]\n",
            " [ 40.53108343   9.52091361  59.58017502]\n",
            " [ 39.52067717  10.52181524  60.58428555]\n",
            " [ 38.50979517  11.53846593  61.60919133]\n",
            " [ 37.52484942  12.51491095  62.59228751]\n",
            " [ 36.54223753  13.50708688  63.55883932]\n",
            " [ 35.55372166  14.51139538  64.5582532 ]\n",
            " [ 34.53839493  15.50769474  65.57273256]\n",
            " [ 33.51708705  16.50592003  66.58420275]\n",
            " [ 32.54872538  17.50328529  67.55724133]\n",
            " [ 31.62748052  18.55447644  68.53372058]\n",
            " [ 30.54716229  19.50311247  69.56007516]\n",
            " [ 29.54432473  20.50273631  70.55772145]\n",
            " [ 28.54596161  21.50177193  71.55756882]\n",
            " [ 27.53131897  22.50195983  72.56711966]\n",
            " [ 26.66836185  23.55014641  73.52183931]\n",
            " [ 25.55733014  24.50167741  74.55241147]\n",
            " [ 24.50795634  25.56738149  75.64729774]\n",
            " [ 23.51914803  26.51375107  76.59384085]\n",
            " [ 22.50853003  27.57439747  77.65621454]\n",
            " [ 21.50210976  28.53410233  78.62123922]\n",
            " [ 20.50170539  29.54644811  79.63326978]\n",
            " [ 19.5543633   30.63572092  80.7064561 ]\n",
            " [ 18.61264957  31.51910208  81.56176344]\n",
            " [ 17.53059965  32.59277521  82.67507276]\n",
            " [ 16.50904976  33.54516651  83.63470127]\n",
            " [ 15.53437234  34.58210803  84.65571012]\n",
            " [ 14.5090704   35.5170184   85.5905956 ]\n",
            " [ 13.50644009  36.51782847  86.59921279]\n",
            " [ 12.50193281  37.53114701  87.61239899]\n",
            " [ 11.55715899  38.50878076  88.5780879 ]\n",
            " [ 10.54066051  39.5091761   89.57947787]\n",
            " [  9.50788746  40.51828965  90.59224943]\n",
            " [  8.50065433  41.52298877  91.60210727]\n",
            " [  7.71276371  42.61896522  92.6880211 ]\n",
            " [  6.7411812   43.61605434  93.70019667]\n",
            " [  5.61244367  44.5098483   94.57919885]\n",
            " [  4.51888526  45.53501725  95.61290946]\n",
            " [  3.69885442  46.50562757  96.56495667]\n",
            " [  2.97232636  47.59533796  97.67960512]\n",
            " [  1.68318864  48.50563881  98.57102037]\n",
            " [  0.62507919  49.52966986  99.60460459]\n",
            " [  0.93612179  50.54760327 100.62646996]\n",
            " [  1.73098931  51.50351635 101.56370639]\n",
            " [  2.62943416  52.50466071 102.5642611 ]\n",
            " [  3.50969001  53.51879853 103.5938302 ]\n",
            " [  4.54826604  54.5368884  104.61376227]\n",
            " [  5.58926865  55.54979564 105.63075147]\n",
            " [  6.73592785  56.58398887 106.65427913]\n",
            " [  7.5045269   57.51749122 107.59034183]\n",
            " [  8.51865741  58.50717047 108.57037743]\n",
            " [  9.51999601  59.51555592 109.58659798]\n",
            " [ 10.57296193  60.55410965 110.63080428]\n",
            " [ 11.51159085  61.5188995  111.5841891 ]\n",
            " [ 12.50215677  62.51489259 112.58145343]\n",
            " [ 13.53373282  63.50274479 113.55413535]\n",
            " [ 14.50470007  64.5181199  114.58372684]\n",
            " [ 15.50099107  65.51899111 115.58688185]\n",
            " [ 16.50961914  66.51310996 116.57254761]\n",
            " [ 17.52570466  67.50539975 117.56111796]\n",
            " [ 18.50586729  68.52642553 118.59677085]\n",
            " [ 19.50360797  69.52113489 119.58711158]\n",
            " [ 20.50334422  70.51078071 120.57052731]\n",
            " [ 21.51423538  71.50526551 121.56179686]\n",
            " [ 22.50294034  72.50865187 122.5667755 ]\n",
            " [ 23.50755462  73.51201396 123.56847517]\n",
            " [ 24.51383944  74.50509913 124.5569928 ]]\n"
          ],
          "name": "stdout"
        }
      ]
    },
    {
      "cell_type": "code",
      "metadata": {
        "id": "l_Dfp0rJUbzC",
        "colab_type": "code",
        "outputId": "d7a3e8f7-abdb-48f9-899f-5c42af0c669d",
        "colab": {
          "base_uri": "https://localhost:8080/",
          "height": 140
        }
      },
      "source": [
        "# Mostrando as labels criadas pelo modelo\n",
        "labels = kmeans.labels_\n",
        "labels"
      ],
      "execution_count": 0,
      "outputs": [
        {
          "output_type": "execute_result",
          "data": {
            "text/plain": [
              "array([2, 2, 2, 2, 2, 2, 2, 2, 2, 2, 2, 2, 2, 2, 2, 2, 2, 2, 2, 2, 2, 2,\n",
              "       2, 2, 2, 2, 2, 2, 2, 2, 2, 2, 2, 2, 2, 2, 2, 2, 2, 2, 2, 2, 2, 2,\n",
              "       2, 2, 2, 2, 2, 2, 1, 1, 1, 1, 1, 1, 1, 1, 1, 1, 1, 1, 1, 1, 1, 1,\n",
              "       1, 1, 1, 1, 1, 1, 1, 1, 1, 1, 1, 1, 1, 1, 1, 1, 1, 1, 1, 1, 1, 1,\n",
              "       1, 1, 1, 1, 1, 1, 1, 1, 1, 1, 1, 1, 0, 0, 0, 0, 0, 0, 0, 0, 0, 0,\n",
              "       0, 0, 0, 0, 0, 0, 0, 0, 0, 0, 0, 0, 0, 0, 0, 0, 0, 0, 0, 0, 0, 0,\n",
              "       0, 0, 0, 0, 0, 0, 0, 0, 0, 0, 0, 0, 0, 0, 0, 0, 0, 0], dtype=int32)"
            ]
          },
          "metadata": {
            "tags": []
          },
          "execution_count": 14
        }
      ]
    },
    {
      "cell_type": "code",
      "metadata": {
        "id": "DaM62iskUryR",
        "colab_type": "code",
        "colab": {}
      },
      "source": [
        "# Método Elbow -> O método Elbow também conhecido como método do cotovelo se trata de uma técnica interessante para encontrar o valor ideal do parâmetro k.\n",
        "# Basicamente o que o método faz é testar a variância dos dados em relação ao número de clusters."
      ],
      "execution_count": 0,
      "outputs": []
    },
    {
      "cell_type": "markdown",
      "metadata": {
        "id": "KRWJLInlSiQH",
        "colab_type": "text"
      },
      "source": [
        ""
      ]
    },
    {
      "cell_type": "code",
      "metadata": {
        "id": "L-SYOxalU4jX",
        "colab_type": "code",
        "outputId": "476abf83-fe2d-4f0b-ef47-31fb90ed3709",
        "colab": {
          "base_uri": "https://localhost:8080/",
          "height": 471
        }
      },
      "source": [
        "from sklearn.cluster import KMeans\n",
        "wcss = []\n",
        "i = 0 \n",
        "for i in range(1, 11):\n",
        "    kmeans = KMeans(n_clusters = i, init = 'random')\n",
        "    kmeans.fit(x)\n",
        "    print (i,kmeans.inertia_)\n",
        "    wcss.append(kmeans.inertia_)  \n",
        "plt.plot(range(1, 11), wcss)\n",
        "plt.title('O Metodo Elbow')\n",
        "plt.xlabel('Numero de Clusters')\n",
        "plt.ylabel('WSS') #within cluster sum of squares\n",
        "plt.show()"
      ],
      "execution_count": 0,
      "outputs": [
        {
          "output_type": "stream",
          "text": [
            "1 281831.54466666665\n",
            "2 70581.3808\n",
            "3 31357.65630492197\n",
            "4 17852.152442982457\n",
            "5 11452.99673132184\n",
            "6 8028.162688628762\n",
            "7 5896.589396668549\n",
            "8 4556.164453904369\n",
            "9 3618.032063252494\n",
            "10 2965.851181013431\n"
          ],
          "name": "stdout"
        },
        {
          "output_type": "display_data",
          "data": {
            "image/png": "[encoded data removed]",
            "text/plain": [
              "<Figure size 432x288 with 1 Axes>"
            ]
          },
          "metadata": {
            "tags": []
          }
        }
      ]
    },
    {
      "cell_type": "code",
      "metadata": {
        "id": "uRo6GJU2VVDV",
        "colab_type": "code",
        "outputId": "9e24514c-3595-4dba-d118-790807cb3624",
        "colab": {
          "base_uri": "https://localhost:8080/",
          "height": 34
        }
      },
      "source": [
        "#Agrupando novos dados KMeansPython\n",
        "data = [\n",
        "        [ 4.12, 3.4, 1.6, 0.7],\n",
        "        [ 5.2, 5.8, 5.2, 6.7],\n",
        "        [ 3.1, 3.5, 3.3, 3.0]\n",
        "    ]\n",
        "kmeans.predict(data)"
      ],
      "execution_count": 0,
      "outputs": [
        {
          "output_type": "execute_result",
          "data": {
            "text/plain": [
              "array([9, 9, 9], dtype=int32)"
            ]
          },
          "metadata": {
            "tags": []
          },
          "execution_count": 17
        }
      ]
    },
    {
      "cell_type": "code",
      "metadata": {
        "id": "f70XLqzAU6pt",
        "colab_type": "code",
        "outputId": "2046f1df-626a-46f5-9244-7431e492cadc",
        "colab": {
          "base_uri": "https://localhost:8080/",
          "height": 295
        }
      },
      "source": [
        " \n",
        "plt.scatter(x[:, 0], x[:,1], s = 100, c = kmeans.labels_)\n",
        "plt.scatter(kmeans.cluster_centers_[:, 0], kmeans.cluster_centers_[:, 1], s = 300, c = 'red',label = 'Centroids')\n",
        "plt.title('Iris Clusters and Centroids')\n",
        "plt.xlabel('SepalLength')\n",
        "plt.ylabel('SepalWidth')\n",
        "plt.legend()\n",
        " \n",
        "plt.show()"
      ],
      "execution_count": 0,
      "outputs": [
        {
          "output_type": "display_data",
          "data": {
            "image/png": "[encoded data removed]",
            "text/plain": [
              "<Figure size 432x288 with 1 Axes>"
            ]
          },
          "metadata": {
            "tags": []
          }
        }
      ]
    },
    {
      "cell_type": "code",
      "metadata": {
        "id": "zM9gX41rXmCa",
        "colab_type": "code",
        "colab": {}
      },
      "source": [
        "def plotKMeans(x, y, centroids, title):\n",
        "    plt.figure(figsize=(8, 8))\n",
        "    plt.scatter(x[:,0], x[:,1],c=y)\n",
        "    plt.scatter(centroids[:,0], centroids[:,1], s=100, c='red')\n",
        "    plt.title(title)"
      ],
      "execution_count": 0,
      "outputs": []
    },
    {
      "cell_type": "code",
      "metadata": {
        "id": "0VL8BsgYW9aT",
        "colab_type": "code",
        "outputId": "5d6f6796-cf8b-4fbb-cf4f-5c3aab9e3959",
        "colab": {
          "base_uri": "https://localhost:8080/",
          "height": 517
        }
      },
      "source": [
        "\n",
        "plt.figure(figsize=(8, 8))\n",
        "plotKMeans(x, kmeans.labels_, kmeans.cluster_centers_, 'Scikit')"
      ],
      "execution_count": 0,
      "outputs": [
        {
          "output_type": "display_data",
          "data": {
            "text/plain": [
              "<Figure size 576x576 with 0 Axes>"
            ]
          },
          "metadata": {
            "tags": []
          }
        },
        {
          "output_type": "display_data",
          "data": {
            "image/png": "[encoded data removed]",
            "text/plain": [
              "<Figure size 576x576 with 1 Axes>"
            ]
          },
          "metadata": {
            "tags": []
          }
        }
      ]
    }
  ]
}